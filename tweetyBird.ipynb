{
 "cells": [
  {
   "cell_type": "code",
   "execution_count": 285,
   "metadata": {},
   "outputs": [],
   "source": [
    "import re\n",
    "import pandas as pd\n",
    "import numpy as np\n",
    "import matplotlib.pyplot as plt\n",
    "import string\n",
    "import nltk\n",
    "import json\n",
    "import pandas as pd\n",
    "import os\n",
    "import sys\n",
    "import glob\n",
    "import unicodedata\n",
    "from sklearn.externals import joblib\n",
    "from sklearn import model_selection, preprocessing, metrics, naive_bayes\n",
    "from sklearn.feature_extraction.text import CountVectorizer, TfidfVectorizer\n",
    "from sklearn import decomposition, ensemble\n",
    "\n",
    "\n",
    "from nltk.tokenize.toktok import ToktokTokenizer\n",
    "tokenizer = ToktokTokenizer()\n",
    "stopword_list = nltk.corpus.stopwords.words('english')\n",
    "stopword_list.remove('no')\n",
    "stopword_list.remove('not')\n",
    "\n",
    "# set up display area to show dataframe in jupyter qtconsole\n",
    "pd.set_option('display.max_colwidth', 150)\n",
    "\n",
    "%matplotlib inline"
   ]
  },
  {
   "cell_type": "code",
   "execution_count": 2,
   "metadata": {},
   "outputs": [],
   "source": [
    "favorites = []\n",
    "user_id = []\n",
    "tweet_id = []\n",
    "retweet = []\n",
    "tweet = []\n",
    "date = []\n",
    "\n",
    "\n",
    "directories = ['Corruption/Bfr elec 1_jan_to_6_apr', 'Corruption/Electn time 7_aprl_to_12_may', 'Corruption/Aftr elctn 13_may_to_31_aug',\n",
    "           'Development/before 1_jan_to_6_april', 'Development/elec 7_apr_to_12_may', 'Development/after 13_may_to_31_aug',\n",
    "           'India Economy/Bfr elec 1_jan_to_6_apr', 'India Economy/Electn time 7_aprl_to_12_may', 'India Economy/Aftr elctn 13_may_to_31_aug']\n",
    "\n",
    "\n",
    "def json2csv(data_obj):\n",
    "    for key in data_obj:\n",
    "        favorites.append(key['favorites'])\n",
    "        user_id.append(key['user_id'])\n",
    "        tweet_id.append(key['tweet_id'])\n",
    "        retweet.append(key['retweet'])\n",
    "        tweet.append(key['tweet'])\n",
    "        date.append(key['date'])\n",
    "    df = pd.DataFrame({'favorites': favorites, 'user_id': user_id, 'tweet_id': tweet_id, 'retweet': retweet, 'tweet': tweet, 'date': date})\n",
    "    df.to_csv('data.csv', encoding='utf-8', index=False)\n",
    "\n",
    "\n",
    "def get_file_path(directories):  \n",
    "    root_dir = os.path.abspath('.')\n",
    "    files = []\n",
    "    \n",
    "    for dirs in directories:\n",
    "        data_dir = os.path.join(root_dir, dirs)\n",
    "        path = os.path.join(data_dir, '*.json')\n",
    "        files.extend(glob.glob(path))\n",
    "    return files\n",
    "\n",
    "\n",
    "def build_csv(directories):\n",
    "    for file in get_file_path(directories):\n",
    "        try:\n",
    "            with open(file, mode='r') as f:\n",
    "                data_json = f.read()\n",
    "                data_obj = json.loads(data_json)\n",
    "                json2csv(data_obj)\n",
    "        except IOError as exc:\n",
    "            if exc.errno != errno.EISDIR:\n",
    "                raise"
   ]
  },
  {
   "cell_type": "code",
   "execution_count": 3,
   "metadata": {},
   "outputs": [],
   "source": [
    "build_csv(directories)"
   ]
  },
  {
   "cell_type": "code",
   "execution_count": 211,
   "metadata": {},
   "outputs": [],
   "source": [
    "train_df = pd.read_csv('data.csv')"
   ]
  },
  {
   "cell_type": "code",
   "execution_count": 212,
   "metadata": {},
   "outputs": [
    {
     "data": {
      "text/html": [
       "<div>\n",
       "<style scoped>\n",
       "    .dataframe tbody tr th:only-of-type {\n",
       "        vertical-align: middle;\n",
       "    }\n",
       "\n",
       "    .dataframe tbody tr th {\n",
       "        vertical-align: top;\n",
       "    }\n",
       "\n",
       "    .dataframe thead th {\n",
       "        text-align: right;\n",
       "    }\n",
       "</style>\n",
       "<table border=\"1\" class=\"dataframe\">\n",
       "  <thead>\n",
       "    <tr style=\"text-align: right;\">\n",
       "      <th></th>\n",
       "      <th>favorites</th>\n",
       "      <th>user_id</th>\n",
       "      <th>tweet_id</th>\n",
       "      <th>retweet</th>\n",
       "      <th>tweet</th>\n",
       "      <th>date</th>\n",
       "    </tr>\n",
       "  </thead>\n",
       "  <tbody>\n",
       "    <tr>\n",
       "      <th>0</th>\n",
       "      <td>1</td>\n",
       "      <td>221463601</td>\n",
       "      <td>418467053238894592</td>\n",
       "      <td>7</td>\n",
       "      <td>@ minhazmerchant sir Arvind Kejriwal Denies Sheila Dixit Corruption https://www.youtube.com/watch?v=EVKFYiK9F0M#t18= … … … # AAPcon every india sh...</td>\n",
       "      <td>2014-01-02 01:11:34</td>\n",
       "    </tr>\n",
       "    <tr>\n",
       "      <th>1</th>\n",
       "      <td>5</td>\n",
       "      <td>315928198</td>\n",
       "      <td>418452683154923521</td>\n",
       "      <td>6</td>\n",
       "      <td># AAP is attracting India Inc,due to its zeal to fight corruption,initiatives to simplify system &amp; ability to bring in a global perspective.</td>\n",
       "      <td>2014-01-02 00:14:28</td>\n",
       "    </tr>\n",
       "    <tr>\n",
       "      <th>2</th>\n",
       "      <td>4</td>\n",
       "      <td>901945033</td>\n",
       "      <td>418435358842310658</td>\n",
       "      <td>9</td>\n",
       "      <td>Took 17yrs for Corey Anderson to beat Shahid Afridi's ODI ton - - Am Sure None Can Beat Congress' Corruption Record in India Even Aft 100yrs</td>\n",
       "      <td>2014-01-01 23:05:38</td>\n",
       "    </tr>\n",
       "    <tr>\n",
       "      <th>3</th>\n",
       "      <td>1</td>\n",
       "      <td>18237781</td>\n",
       "      <td>418430142428368896</td>\n",
       "      <td>2</td>\n",
       "      <td># India # AAP # Delhi # Corruption Has @ ArvindKejriwal compromised his anti-corruption stance due to compulsions of \"outside support politics\" ?</td>\n",
       "      <td>2014-01-01 22:44:54</td>\n",
       "    </tr>\n",
       "    <tr>\n",
       "      <th>4</th>\n",
       "      <td>17</td>\n",
       "      <td>1376312424</td>\n",
       "      <td>418408312556621827</td>\n",
       "      <td>51</td>\n",
       "      <td>Hurry Up Guys, take AAP membership soon, offer valid till corruption exists in India. # TrustVote4AAP http://www.aamaadmiparty.org/join-us</td>\n",
       "      <td>2014-01-01 21:18:10</td>\n",
       "    </tr>\n",
       "  </tbody>\n",
       "</table>\n",
       "</div>"
      ],
      "text/plain": [
       "   favorites     user_id            tweet_id  retweet  \\\n",
       "0          1   221463601  418467053238894592        7   \n",
       "1          5   315928198  418452683154923521        6   \n",
       "2          4   901945033  418435358842310658        9   \n",
       "3          1    18237781  418430142428368896        2   \n",
       "4         17  1376312424  418408312556621827       51   \n",
       "\n",
       "                                                                                                                                                   tweet  \\\n",
       "0  @ minhazmerchant sir Arvind Kejriwal Denies Sheila Dixit Corruption https://www.youtube.com/watch?v=EVKFYiK9F0M#t18= … … … # AAPcon every india sh...   \n",
       "1           # AAP is attracting India Inc,due to its zeal to fight corruption,initiatives to simplify system & ability to bring in a global perspective.   \n",
       "2           Took 17yrs for Corey Anderson to beat Shahid Afridi's ODI ton - - Am Sure None Can Beat Congress' Corruption Record in India Even Aft 100yrs   \n",
       "3      # India # AAP # Delhi # Corruption Has @ ArvindKejriwal compromised his anti-corruption stance due to compulsions of \"outside support politics\" ?   \n",
       "4             Hurry Up Guys, take AAP membership soon, offer valid till corruption exists in India. # TrustVote4AAP http://www.aamaadmiparty.org/join-us   \n",
       "\n",
       "                  date  \n",
       "0  2014-01-02 01:11:34  \n",
       "1  2014-01-02 00:14:28  \n",
       "2  2014-01-01 23:05:38  \n",
       "3  2014-01-01 22:44:54  \n",
       "4  2014-01-01 21:18:10  "
      ]
     },
     "execution_count": 212,
     "metadata": {},
     "output_type": "execute_result"
    }
   ],
   "source": [
    "train_df.head()"
   ]
  },
  {
   "cell_type": "code",
   "execution_count": 213,
   "metadata": {},
   "outputs": [
    {
     "name": "stdout",
     "output_type": "stream",
     "text": [
      "<class 'pandas.core.frame.DataFrame'>\n",
      "RangeIndex: 31034 entries, 0 to 31033\n",
      "Data columns (total 6 columns):\n",
      "favorites    31034 non-null int64\n",
      "user_id      31034 non-null int64\n",
      "tweet_id     31034 non-null int64\n",
      "retweet      31034 non-null int64\n",
      "tweet        31034 non-null object\n",
      "date         31034 non-null object\n",
      "dtypes: int64(4), object(2)\n",
      "memory usage: 1.4+ MB\n"
     ]
    }
   ],
   "source": [
    "train_df.info()"
   ]
  },
  {
   "cell_type": "code",
   "execution_count": 214,
   "metadata": {},
   "outputs": [],
   "source": [
    "# removing the user handler like \"@ bloombergnews\"\n",
    "\n",
    "def remove_handler(input_txt):\n",
    "    pattern = \"@\\s?[\\w]*\"\n",
    "    r = re.findall(pattern, input_txt)\n",
    "    for i in r:\n",
    "        input_txt = re.sub(i, '', input_txt)        \n",
    "    return input_txt\n",
    "\n",
    "\n",
    "train_df['tidy_tweet'] = np.vectorize(remove_handler)(train_df['tweet'])      "
   ]
  },
  {
   "cell_type": "code",
   "execution_count": 215,
   "metadata": {},
   "outputs": [],
   "source": [
    "#converting é to e accented characters/letters\n",
    "\n",
    "def remove_accented_chars(text):\n",
    "    text = unicodedata.normalize('NFKD', text).encode('ascii', 'ignore').decode('utf-8', 'ignore')\n",
    "    return text\n",
    "\n",
    "\n",
    "train_df['tidy_tweet'] = np.vectorize(remove_accented_chars)(train_df['tidy_tweet'])"
   ]
  },
  {
   "cell_type": "code",
   "execution_count": 216,
   "metadata": {},
   "outputs": [],
   "source": [
    "#Converting each contraction to its expanded, original form helps with text standardization.\n",
    "\n",
    "CONTRACTION_MAP = {\n",
    "\"ain't\": \"is not\",\n",
    "\"aren't\": \"are not\",\n",
    "\"can't\": \"cannot\",\n",
    "\"can't've\": \"cannot have\",\n",
    "\"'cause\": \"because\",\n",
    "\"could've\": \"could have\",\n",
    "\"couldn't\": \"could not\",\n",
    "\"couldn't've\": \"could not have\",\n",
    "\"didn't\": \"did not\",\n",
    "\"doesn't\": \"does not\",\n",
    "\"don't\": \"do not\",\n",
    "\"hadn't\": \"had not\",\n",
    "\"hadn't've\": \"had not have\",\n",
    "\"hasn't\": \"has not\",\n",
    "\"haven't\": \"have not\",\n",
    "\"he'd\": \"he would\",\n",
    "\"he'd've\": \"he would have\",\n",
    "\"he'll\": \"he will\",\n",
    "\"he'll've\": \"he he will have\",\n",
    "\"he's\": \"he is\",\n",
    "\"how'd\": \"how did\",\n",
    "\"how'd'y\": \"how do you\",\n",
    "\"how'll\": \"how will\",\n",
    "\"how's\": \"how is\",\n",
    "\"I'd\": \"I would\",\n",
    "\"I'd've\": \"I would have\",\n",
    "\"I'll\": \"I will\",\n",
    "\"I'll've\": \"I will have\",\n",
    "\"I'm\": \"I am\",\n",
    "\"I've\": \"I have\",\n",
    "\"i'd\": \"i would\",\n",
    "\"i'd've\": \"i would have\",\n",
    "\"i'll\": \"i will\",\n",
    "\"i'll've\": \"i will have\",\n",
    "\"i'm\": \"i am\",\n",
    "\"i've\": \"i have\",\n",
    "\"isn't\": \"is not\",\n",
    "\"it'd\": \"it would\",\n",
    "\"it'd've\": \"it would have\",\n",
    "\"it'll\": \"it will\",\n",
    "\"it'll've\": \"it will have\",\n",
    "\"it's\": \"it is\",\n",
    "\"let's\": \"let us\",\n",
    "\"ma'am\": \"madam\",\n",
    "\"mayn't\": \"may not\",\n",
    "\"might've\": \"might have\",\n",
    "\"mightn't\": \"might not\",\n",
    "\"mightn't've\": \"might not have\",\n",
    "\"must've\": \"must have\",\n",
    "\"mustn't\": \"must not\",\n",
    "\"mustn't've\": \"must not have\",\n",
    "\"needn't\": \"need not\",\n",
    "\"needn't've\": \"need not have\",\n",
    "\"o'clock\": \"of the clock\",\n",
    "\"oughtn't\": \"ought not\",\n",
    "\"oughtn't've\": \"ought not have\",\n",
    "\"shan't\": \"shall not\",\n",
    "\"sha'n't\": \"shall not\",\n",
    "\"shan't've\": \"shall not have\",\n",
    "\"she'd\": \"she would\",\n",
    "\"she'd've\": \"she would have\",\n",
    "\"she'll\": \"she will\",\n",
    "\"she'll've\": \"she will have\",\n",
    "\"she's\": \"she is\",\n",
    "\"should've\": \"should have\",\n",
    "\"shouldn't\": \"should not\",\n",
    "\"shouldn't've\": \"should not have\",\n",
    "\"so've\": \"so have\",\n",
    "\"so's\": \"so as\",\n",
    "\"that'd\": \"that would\",\n",
    "\"that'd've\": \"that would have\",\n",
    "\"that's\": \"that is\",\n",
    "\"there'd\": \"there would\",\n",
    "\"there'd've\": \"there would have\",\n",
    "\"there's\": \"there is\",\n",
    "\"they'd\": \"they would\",\n",
    "\"they'd've\": \"they would have\",\n",
    "\"they'll\": \"they will\",\n",
    "\"they'll've\": \"they will have\",\n",
    "\"they're\": \"they are\",\n",
    "\"they've\": \"they have\",\n",
    "\"to've\": \"to have\",\n",
    "\"wasn't\": \"was not\",\n",
    "\"we'd\": \"we would\",\n",
    "\"we'd've\": \"we would have\",\n",
    "\"we'll\": \"we will\",\n",
    "\"we'll've\": \"we will have\",\n",
    "\"we're\": \"we are\",\n",
    "\"we've\": \"we have\",\n",
    "\"weren't\": \"were not\",\n",
    "\"what'll\": \"what will\",\n",
    "\"what'll've\": \"what will have\",\n",
    "\"what're\": \"what are\",\n",
    "\"what's\": \"what is\",\n",
    "\"what've\": \"what have\",\n",
    "\"when's\": \"when is\",\n",
    "\"when've\": \"when have\",\n",
    "\"where'd\": \"where did\",\n",
    "\"where's\": \"where is\",\n",
    "\"where've\": \"where have\",\n",
    "\"who'll\": \"who will\",\n",
    "\"who'll've\": \"who will have\",\n",
    "\"who's\": \"who is\",\n",
    "\"who've\": \"who have\",\n",
    "\"why's\": \"why is\",\n",
    "\"why've\": \"why have\",\n",
    "\"will've\": \"will have\",\n",
    "\"won't\": \"will not\",\n",
    "\"won't've\": \"will not have\",\n",
    "\"would've\": \"would have\",\n",
    "\"wouldn't\": \"would not\",\n",
    "\"wouldn't've\": \"would not have\",\n",
    "\"y'all\": \"you all\",\n",
    "\"y'all'd\": \"you all would\",\n",
    "\"y'all'd've\": \"you all would have\",\n",
    "\"y'all're\": \"you all are\",\n",
    "\"y'all've\": \"you all have\",\n",
    "\"you'd\": \"you would\",\n",
    "\"you'd've\": \"you would have\",\n",
    "\"you'll\": \"you will\",\n",
    "\"you'll've\": \"you will have\",\n",
    "\"you're\": \"you are\",\n",
    "\"you've\": \"you have\"\n",
    "}\n",
    "\n",
    "\n",
    "def expand_contractions(text, contraction_mapping=CONTRACTION_MAP):\n",
    "    \n",
    "    contractions_pattern = re.compile('({})'.format('|'.join(contraction_mapping.keys())), \n",
    "                                      flags=re.IGNORECASE|re.DOTALL)\n",
    "    def expand_match(contraction):\n",
    "        match = contraction.group(0)\n",
    "        first_char = match[0]\n",
    "        expanded_contraction = contraction_mapping.get(match)\\\n",
    "                                if contraction_mapping.get(match)\\\n",
    "                                else contraction_mapping.get(match.lower())                       \n",
    "        expanded_contraction = first_char+expanded_contraction[1:]\n",
    "        return expanded_contraction\n",
    "        \n",
    "    expanded_text = contractions_pattern.sub(expand_match, text)\n",
    "    expanded_text = re.sub(\"'\", \"\", expanded_text)\n",
    "    return expanded_text\n",
    "\n",
    "train_df['tidy_tweet'] = np.vectorize(expand_contractions)(train_df['tidy_tweet'])"
   ]
  },
  {
   "cell_type": "code",
   "execution_count": 217,
   "metadata": {},
   "outputs": [],
   "source": [
    "# Remove http/https url tags\n",
    "\n",
    "def remove_url(input_txt):\n",
    "    pattern = 'http[s]?://\\S+|pic.twitter.\\S+|twitter.\\S+'\n",
    "    r = re.findall(pattern, input_txt)\n",
    "    for i in r:\n",
    "        input_txt = input_txt.replace(i, '', 1)\n",
    "    return input_txt\n",
    "\n",
    "train_df['tidy_tweet'] = np.vectorize(remove_url)(train_df['tidy_tweet'])"
   ]
  },
  {
   "cell_type": "code",
   "execution_count": 218,
   "metadata": {},
   "outputs": [],
   "source": [
    "train_df['tidy_tweet'] = train_df['tidy_tweet'].str.replace(\"[^a-zA-Z#]\", \" \")"
   ]
  },
  {
   "cell_type": "code",
   "execution_count": 219,
   "metadata": {},
   "outputs": [],
   "source": [
    "# Removing redudant space after hashtag just to make whole hashtag as a single token\n",
    "\n",
    "def remove_hash_space(input_txt):\n",
    "    pattern = '#\\s+'\n",
    "    input_txt = re.sub(pattern, '#', input_txt)\n",
    "    return input_txt\n",
    "\n",
    "train_df['tidy_tweet'] = np.vectorize(remove_hash_space)(train_df['tidy_tweet']) "
   ]
  },
  {
   "cell_type": "code",
   "execution_count": 220,
   "metadata": {},
   "outputs": [],
   "source": [
    "def remove_stopwords(text, is_lower_case=False):\n",
    "    tokens = tokenizer.tokenize(text)\n",
    "    tokens = [token.strip() for token in tokens]\n",
    "    if is_lower_case:\n",
    "        filtered_tokens = [token for token in tokens if token not in stopword_list]\n",
    "    else:\n",
    "        filtered_tokens = [token for token in tokens if token.lower() not in stopword_list]\n",
    "    filtered_text = ' '.join(filtered_tokens)    \n",
    "    return filtered_text\n",
    "\n",
    "train_df['tidy_tweet'] = np.vectorize(remove_stopwords)(train_df['tidy_tweet'])"
   ]
  },
  {
   "cell_type": "code",
   "execution_count": 221,
   "metadata": {},
   "outputs": [],
   "source": [
    "def stemmer(text):\n",
    "    ps = nltk.porter.PorterStemmer()\n",
    "    text = ' '.join([ps.stem(word) for word in text.split()])\n",
    "    return text\n",
    "\n",
    "train_df['tidy_tweet'] = np.vectorize(stemmer)(train_df['tidy_tweet'])"
   ]
  },
  {
   "cell_type": "code",
   "execution_count": 222,
   "metadata": {},
   "outputs": [
    {
     "data": {
      "text/html": [
       "<div>\n",
       "<style scoped>\n",
       "    .dataframe tbody tr th:only-of-type {\n",
       "        vertical-align: middle;\n",
       "    }\n",
       "\n",
       "    .dataframe tbody tr th {\n",
       "        vertical-align: top;\n",
       "    }\n",
       "\n",
       "    .dataframe thead th {\n",
       "        text-align: right;\n",
       "    }\n",
       "</style>\n",
       "<table border=\"1\" class=\"dataframe\">\n",
       "  <thead>\n",
       "    <tr style=\"text-align: right;\">\n",
       "      <th></th>\n",
       "      <th>favorites</th>\n",
       "      <th>user_id</th>\n",
       "      <th>tweet_id</th>\n",
       "      <th>retweet</th>\n",
       "      <th>tweet</th>\n",
       "      <th>date</th>\n",
       "      <th>tidy_tweet</th>\n",
       "    </tr>\n",
       "  </thead>\n",
       "  <tbody>\n",
       "    <tr>\n",
       "      <th>0</th>\n",
       "      <td>1</td>\n",
       "      <td>221463601</td>\n",
       "      <td>418467053238894592</td>\n",
       "      <td>7</td>\n",
       "      <td>@ minhazmerchant sir Arvind Kejriwal Denies Sheila Dixit Corruption https://www.youtube.com/watch?v=EVKFYiK9F0M#t18= … … … # AAPcon every india sh...</td>\n",
       "      <td>2014-01-02 01:11:34</td>\n",
       "      <td>sir arvind kejriw deni sheila dixit corrupt #aapcon everi india watch video</td>\n",
       "    </tr>\n",
       "    <tr>\n",
       "      <th>1</th>\n",
       "      <td>5</td>\n",
       "      <td>315928198</td>\n",
       "      <td>418452683154923521</td>\n",
       "      <td>6</td>\n",
       "      <td># AAP is attracting India Inc,due to its zeal to fight corruption,initiatives to simplify system &amp; ability to bring in a global perspective.</td>\n",
       "      <td>2014-01-02 00:14:28</td>\n",
       "      <td>#aap attract india inc due zeal fight corrupt initi simplifi system abil bring global perspect</td>\n",
       "    </tr>\n",
       "    <tr>\n",
       "      <th>2</th>\n",
       "      <td>4</td>\n",
       "      <td>901945033</td>\n",
       "      <td>418435358842310658</td>\n",
       "      <td>9</td>\n",
       "      <td>Took 17yrs for Corey Anderson to beat Shahid Afridi's ODI ton - - Am Sure None Can Beat Congress' Corruption Record in India Even Aft 100yrs</td>\n",
       "      <td>2014-01-01 23:05:38</td>\n",
       "      <td>took yr corey anderson beat shahid afridi odi ton sure none beat congress corrupt record india even aft yr</td>\n",
       "    </tr>\n",
       "    <tr>\n",
       "      <th>3</th>\n",
       "      <td>1</td>\n",
       "      <td>18237781</td>\n",
       "      <td>418430142428368896</td>\n",
       "      <td>2</td>\n",
       "      <td># India # AAP # Delhi # Corruption Has @ ArvindKejriwal compromised his anti-corruption stance due to compulsions of \"outside support politics\" ?</td>\n",
       "      <td>2014-01-01 22:44:54</td>\n",
       "      <td>#india #aap #delhi #corrupt compromis anti corrupt stanc due compuls outsid support polit</td>\n",
       "    </tr>\n",
       "    <tr>\n",
       "      <th>4</th>\n",
       "      <td>17</td>\n",
       "      <td>1376312424</td>\n",
       "      <td>418408312556621827</td>\n",
       "      <td>51</td>\n",
       "      <td>Hurry Up Guys, take AAP membership soon, offer valid till corruption exists in India. # TrustVote4AAP http://www.aamaadmiparty.org/join-us</td>\n",
       "      <td>2014-01-01 21:18:10</td>\n",
       "      <td>hurri guy take aap membership soon offer valid till corrupt exist india #trustvot aap</td>\n",
       "    </tr>\n",
       "  </tbody>\n",
       "</table>\n",
       "</div>"
      ],
      "text/plain": [
       "   favorites     user_id            tweet_id  retweet  \\\n",
       "0          1   221463601  418467053238894592        7   \n",
       "1          5   315928198  418452683154923521        6   \n",
       "2          4   901945033  418435358842310658        9   \n",
       "3          1    18237781  418430142428368896        2   \n",
       "4         17  1376312424  418408312556621827       51   \n",
       "\n",
       "                                                                                                                                                   tweet  \\\n",
       "0  @ minhazmerchant sir Arvind Kejriwal Denies Sheila Dixit Corruption https://www.youtube.com/watch?v=EVKFYiK9F0M#t18= … … … # AAPcon every india sh...   \n",
       "1           # AAP is attracting India Inc,due to its zeal to fight corruption,initiatives to simplify system & ability to bring in a global perspective.   \n",
       "2           Took 17yrs for Corey Anderson to beat Shahid Afridi's ODI ton - - Am Sure None Can Beat Congress' Corruption Record in India Even Aft 100yrs   \n",
       "3      # India # AAP # Delhi # Corruption Has @ ArvindKejriwal compromised his anti-corruption stance due to compulsions of \"outside support politics\" ?   \n",
       "4             Hurry Up Guys, take AAP membership soon, offer valid till corruption exists in India. # TrustVote4AAP http://www.aamaadmiparty.org/join-us   \n",
       "\n",
       "                  date  \\\n",
       "0  2014-01-02 01:11:34   \n",
       "1  2014-01-02 00:14:28   \n",
       "2  2014-01-01 23:05:38   \n",
       "3  2014-01-01 22:44:54   \n",
       "4  2014-01-01 21:18:10   \n",
       "\n",
       "                                                                                                   tidy_tweet  \n",
       "0                                 sir arvind kejriw deni sheila dixit corrupt #aapcon everi india watch video  \n",
       "1              #aap attract india inc due zeal fight corrupt initi simplifi system abil bring global perspect  \n",
       "2  took yr corey anderson beat shahid afridi odi ton sure none beat congress corrupt record india even aft yr  \n",
       "3                   #india #aap #delhi #corrupt compromis anti corrupt stanc due compuls outsid support polit  \n",
       "4                       hurri guy take aap membership soon offer valid till corrupt exist india #trustvot aap  "
      ]
     },
     "execution_count": 222,
     "metadata": {},
     "output_type": "execute_result"
    }
   ],
   "source": [
    "train_df.head()"
   ]
  },
  {
   "cell_type": "code",
   "execution_count": 223,
   "metadata": {},
   "outputs": [],
   "source": [
    "r = re.compile('\\w+aap\\w+|\\w+aap|aap\\w+|aap|\\w+aam\\w+|\\w+aam|aam\\w+|\\w+arvind\\w+|\\w+arvind|arvind\\w+|arvind|\\w+kejri\\w+|\\w+kejri|kejri\\w+|kejri|\\w+askkejri\\w+|\\w+askkejri|askkejri\\w+|askkejri|akasksmodi|akdelhijansabha|akin\\w+|aravindkejiriw|arwind|\\w+lokp\\w+|\\w+lokp|lokp\\w+|\\w+jhaadu\\w+|\\w+jhaadu|jhaadu\\w+|jhaddu')\n",
    "for i in range(0, train_df['tidy_tweet'].count()):\n",
    "    str = train_df['tidy_tweet'].iloc[i]\n",
    "    ht = re.findall(r\"#(\\w+)\", str)\n",
    "    match = list(filter(r.match, ht))\n",
    "    if not match:\n",
    "        train_df.at[i, 'target'] = 'others'\n",
    "    else:\n",
    "        train_df.at[i, 'target'] = 'aap'"
   ]
  },
  {
   "cell_type": "code",
   "execution_count": 224,
   "metadata": {},
   "outputs": [
    {
     "data": {
      "text/html": [
       "<div>\n",
       "<style scoped>\n",
       "    .dataframe tbody tr th:only-of-type {\n",
       "        vertical-align: middle;\n",
       "    }\n",
       "\n",
       "    .dataframe tbody tr th {\n",
       "        vertical-align: top;\n",
       "    }\n",
       "\n",
       "    .dataframe thead th {\n",
       "        text-align: right;\n",
       "    }\n",
       "</style>\n",
       "<table border=\"1\" class=\"dataframe\">\n",
       "  <thead>\n",
       "    <tr style=\"text-align: right;\">\n",
       "      <th></th>\n",
       "      <th>favorites</th>\n",
       "      <th>user_id</th>\n",
       "      <th>tweet_id</th>\n",
       "      <th>retweet</th>\n",
       "      <th>tweet</th>\n",
       "      <th>date</th>\n",
       "      <th>tidy_tweet</th>\n",
       "      <th>target</th>\n",
       "    </tr>\n",
       "  </thead>\n",
       "  <tbody>\n",
       "    <tr>\n",
       "      <th>0</th>\n",
       "      <td>1</td>\n",
       "      <td>221463601</td>\n",
       "      <td>418467053238894592</td>\n",
       "      <td>7</td>\n",
       "      <td>@ minhazmerchant sir Arvind Kejriwal Denies Sheila Dixit Corruption https://www.youtube.com/watch?v=EVKFYiK9F0M#t18= … … … # AAPcon every india sh...</td>\n",
       "      <td>2014-01-02 01:11:34</td>\n",
       "      <td>sir arvind kejriw deni sheila dixit corrupt #aapcon everi india watch video</td>\n",
       "      <td>aap</td>\n",
       "    </tr>\n",
       "    <tr>\n",
       "      <th>1</th>\n",
       "      <td>5</td>\n",
       "      <td>315928198</td>\n",
       "      <td>418452683154923521</td>\n",
       "      <td>6</td>\n",
       "      <td># AAP is attracting India Inc,due to its zeal to fight corruption,initiatives to simplify system &amp; ability to bring in a global perspective.</td>\n",
       "      <td>2014-01-02 00:14:28</td>\n",
       "      <td>#aap attract india inc due zeal fight corrupt initi simplifi system abil bring global perspect</td>\n",
       "      <td>aap</td>\n",
       "    </tr>\n",
       "    <tr>\n",
       "      <th>2</th>\n",
       "      <td>4</td>\n",
       "      <td>901945033</td>\n",
       "      <td>418435358842310658</td>\n",
       "      <td>9</td>\n",
       "      <td>Took 17yrs for Corey Anderson to beat Shahid Afridi's ODI ton - - Am Sure None Can Beat Congress' Corruption Record in India Even Aft 100yrs</td>\n",
       "      <td>2014-01-01 23:05:38</td>\n",
       "      <td>took yr corey anderson beat shahid afridi odi ton sure none beat congress corrupt record india even aft yr</td>\n",
       "      <td>others</td>\n",
       "    </tr>\n",
       "    <tr>\n",
       "      <th>3</th>\n",
       "      <td>1</td>\n",
       "      <td>18237781</td>\n",
       "      <td>418430142428368896</td>\n",
       "      <td>2</td>\n",
       "      <td># India # AAP # Delhi # Corruption Has @ ArvindKejriwal compromised his anti-corruption stance due to compulsions of \"outside support politics\" ?</td>\n",
       "      <td>2014-01-01 22:44:54</td>\n",
       "      <td>#india #aap #delhi #corrupt compromis anti corrupt stanc due compuls outsid support polit</td>\n",
       "      <td>aap</td>\n",
       "    </tr>\n",
       "    <tr>\n",
       "      <th>4</th>\n",
       "      <td>17</td>\n",
       "      <td>1376312424</td>\n",
       "      <td>418408312556621827</td>\n",
       "      <td>51</td>\n",
       "      <td>Hurry Up Guys, take AAP membership soon, offer valid till corruption exists in India. # TrustVote4AAP http://www.aamaadmiparty.org/join-us</td>\n",
       "      <td>2014-01-01 21:18:10</td>\n",
       "      <td>hurri guy take aap membership soon offer valid till corrupt exist india #trustvot aap</td>\n",
       "      <td>others</td>\n",
       "    </tr>\n",
       "  </tbody>\n",
       "</table>\n",
       "</div>"
      ],
      "text/plain": [
       "   favorites     user_id            tweet_id  retweet  \\\n",
       "0          1   221463601  418467053238894592        7   \n",
       "1          5   315928198  418452683154923521        6   \n",
       "2          4   901945033  418435358842310658        9   \n",
       "3          1    18237781  418430142428368896        2   \n",
       "4         17  1376312424  418408312556621827       51   \n",
       "\n",
       "                                                                                                                                                   tweet  \\\n",
       "0  @ minhazmerchant sir Arvind Kejriwal Denies Sheila Dixit Corruption https://www.youtube.com/watch?v=EVKFYiK9F0M#t18= … … … # AAPcon every india sh...   \n",
       "1           # AAP is attracting India Inc,due to its zeal to fight corruption,initiatives to simplify system & ability to bring in a global perspective.   \n",
       "2           Took 17yrs for Corey Anderson to beat Shahid Afridi's ODI ton - - Am Sure None Can Beat Congress' Corruption Record in India Even Aft 100yrs   \n",
       "3      # India # AAP # Delhi # Corruption Has @ ArvindKejriwal compromised his anti-corruption stance due to compulsions of \"outside support politics\" ?   \n",
       "4             Hurry Up Guys, take AAP membership soon, offer valid till corruption exists in India. # TrustVote4AAP http://www.aamaadmiparty.org/join-us   \n",
       "\n",
       "                  date  \\\n",
       "0  2014-01-02 01:11:34   \n",
       "1  2014-01-02 00:14:28   \n",
       "2  2014-01-01 23:05:38   \n",
       "3  2014-01-01 22:44:54   \n",
       "4  2014-01-01 21:18:10   \n",
       "\n",
       "                                                                                                   tidy_tweet  \\\n",
       "0                                 sir arvind kejriw deni sheila dixit corrupt #aapcon everi india watch video   \n",
       "1              #aap attract india inc due zeal fight corrupt initi simplifi system abil bring global perspect   \n",
       "2  took yr corey anderson beat shahid afridi odi ton sure none beat congress corrupt record india even aft yr   \n",
       "3                   #india #aap #delhi #corrupt compromis anti corrupt stanc due compuls outsid support polit   \n",
       "4                       hurri guy take aap membership soon offer valid till corrupt exist india #trustvot aap   \n",
       "\n",
       "   target  \n",
       "0     aap  \n",
       "1     aap  \n",
       "2  others  \n",
       "3     aap  \n",
       "4  others  "
      ]
     },
     "execution_count": 224,
     "metadata": {},
     "output_type": "execute_result"
    }
   ],
   "source": [
    "train_df.head()"
   ]
  },
  {
   "cell_type": "code",
   "execution_count": 225,
   "metadata": {},
   "outputs": [],
   "source": [
    "r = re.compile('\\w+modi\\w+|\\w+modi|modi\\w+|modi|\\w+namo\\w+|\\w+namo|namo\\w+|namo|ach\\w+|acch\\w+|amitshah|\\w+bjp\\w+|\\w+bjp|bjp\\w+|bjp|bjd|askjaitley|\\w+chaiwala\\w+|\\w+chaiwala|chaiwala\\w+|chaiwala')\n",
    "for i in range(0, train_df['tidy_tweet'].count()):\n",
    "    if train_df.at[i, 'target'] == 'others':\n",
    "        str = train_df['tidy_tweet'].iloc[i]\n",
    "        ht = re.findall(r\"#(\\w+)\", str)\n",
    "        match = list(filter(r.match, ht))\n",
    "        if not match:\n",
    "            pass\n",
    "        else:\n",
    "            train_df.at[i, 'target'] = 'bjp'"
   ]
  },
  {
   "cell_type": "code",
   "execution_count": 226,
   "metadata": {},
   "outputs": [],
   "source": [
    "r = re.compile('\\w+congress\\w+|\\w+congress|congress\\w+|congress|gandhi\\w+|\\w+gandhi|gandhi|\\w+rahul\\w+|\\w+rahul|rahul\\w+|rahul|rahulgandhi|pappu|agustawestland|feku\\w+|feku|manmohansingh')\n",
    "for i in range(0, train_df['tidy_tweet'].count()):\n",
    "    if train_df.at[i, 'target'] == 'others':\n",
    "        str = train_df['tidy_tweet'].iloc[i]\n",
    "        ht = re.findall(r\"#(\\w+)\", str)\n",
    "        match = list(filter(r.match, ht))\n",
    "        if not match:\n",
    "            pass\n",
    "        else:\n",
    "            train_df.at[i, 'target'] = 'congress'"
   ]
  },
  {
   "cell_type": "code",
   "execution_count": 227,
   "metadata": {},
   "outputs": [],
   "source": [
    "r = re.compile('aap\\w+|aap|arvind\\w+|arvind|kejri\\w+|kejri|arwind')\n",
    "for i in range(0, train_df['tidy_tweet'].count()):\n",
    "    if train_df.at[i, 'target'] == 'others':\n",
    "        str = train_df['tidy_tweet'].iloc[i]\n",
    "        ht = re.findall(r, str)\n",
    "        if not ht:\n",
    "            pass\n",
    "        else:\n",
    "            train_df.at[i, 'target'] = 'aap'"
   ]
  },
  {
   "cell_type": "code",
   "execution_count": 228,
   "metadata": {},
   "outputs": [],
   "source": [
    "r = re.compile('modi|namo|bjp')\n",
    "for i in range(0, train_df['tidy_tweet'].count()):\n",
    "    if train_df.at[i, 'target'] == 'others':\n",
    "        str = train_df['tidy_tweet'].iloc[i]\n",
    "        ht = re.findall(r, str)\n",
    "        if not ht:\n",
    "            pass\n",
    "        else:\n",
    "            train_df.at[i, 'target'] = 'bjp'"
   ]
  },
  {
   "cell_type": "code",
   "execution_count": 229,
   "metadata": {},
   "outputs": [],
   "source": [
    "r = re.compile('congress|rahul|gandhi|sonia|\\binc\\b|\\bupa\\b')\n",
    "for i in range(0, train_df['tidy_tweet'].count()):\n",
    "    if train_df.at[i, 'target'] == 'others':\n",
    "        str = train_df['tidy_tweet'].iloc[i]\n",
    "        ht = re.findall(r, str)\n",
    "        if not ht:\n",
    "            pass\n",
    "        else:\n",
    "            train_df.at[i, 'target'] = 'congress'"
   ]
  },
  {
   "cell_type": "code",
   "execution_count": 230,
   "metadata": {},
   "outputs": [],
   "source": [
    "train_df['date'] = pd.to_datetime(train_df['date'])"
   ]
  },
  {
   "cell_type": "code",
   "execution_count": 231,
   "metadata": {},
   "outputs": [
    {
     "data": {
      "text/html": [
       "<div>\n",
       "<style scoped>\n",
       "    .dataframe tbody tr th:only-of-type {\n",
       "        vertical-align: middle;\n",
       "    }\n",
       "\n",
       "    .dataframe tbody tr th {\n",
       "        vertical-align: top;\n",
       "    }\n",
       "\n",
       "    .dataframe thead th {\n",
       "        text-align: right;\n",
       "    }\n",
       "</style>\n",
       "<table border=\"1\" class=\"dataframe\">\n",
       "  <thead>\n",
       "    <tr style=\"text-align: right;\">\n",
       "      <th></th>\n",
       "      <th>favorites</th>\n",
       "      <th>user_id</th>\n",
       "      <th>tweet_id</th>\n",
       "      <th>retweet</th>\n",
       "      <th>tweet</th>\n",
       "      <th>date</th>\n",
       "      <th>tidy_tweet</th>\n",
       "      <th>target</th>\n",
       "    </tr>\n",
       "  </thead>\n",
       "  <tbody>\n",
       "    <tr>\n",
       "      <th>0</th>\n",
       "      <td>1</td>\n",
       "      <td>221463601</td>\n",
       "      <td>418467053238894592</td>\n",
       "      <td>7</td>\n",
       "      <td>@ minhazmerchant sir Arvind Kejriwal Denies Sheila Dixit Corruption https://www.youtube.com/watch?v=EVKFYiK9F0M#t18= … … … # AAPcon every india sh...</td>\n",
       "      <td>2014-01-02 01:11:34</td>\n",
       "      <td>sir arvind kejriw deni sheila dixit corrupt #aapcon everi india watch video</td>\n",
       "      <td>aap</td>\n",
       "    </tr>\n",
       "    <tr>\n",
       "      <th>1</th>\n",
       "      <td>5</td>\n",
       "      <td>315928198</td>\n",
       "      <td>418452683154923521</td>\n",
       "      <td>6</td>\n",
       "      <td># AAP is attracting India Inc,due to its zeal to fight corruption,initiatives to simplify system &amp; ability to bring in a global perspective.</td>\n",
       "      <td>2014-01-02 00:14:28</td>\n",
       "      <td>#aap attract india inc due zeal fight corrupt initi simplifi system abil bring global perspect</td>\n",
       "      <td>aap</td>\n",
       "    </tr>\n",
       "    <tr>\n",
       "      <th>2</th>\n",
       "      <td>4</td>\n",
       "      <td>901945033</td>\n",
       "      <td>418435358842310658</td>\n",
       "      <td>9</td>\n",
       "      <td>Took 17yrs for Corey Anderson to beat Shahid Afridi's ODI ton - - Am Sure None Can Beat Congress' Corruption Record in India Even Aft 100yrs</td>\n",
       "      <td>2014-01-01 23:05:38</td>\n",
       "      <td>took yr corey anderson beat shahid afridi odi ton sure none beat congress corrupt record india even aft yr</td>\n",
       "      <td>congress</td>\n",
       "    </tr>\n",
       "    <tr>\n",
       "      <th>3</th>\n",
       "      <td>1</td>\n",
       "      <td>18237781</td>\n",
       "      <td>418430142428368896</td>\n",
       "      <td>2</td>\n",
       "      <td># India # AAP # Delhi # Corruption Has @ ArvindKejriwal compromised his anti-corruption stance due to compulsions of \"outside support politics\" ?</td>\n",
       "      <td>2014-01-01 22:44:54</td>\n",
       "      <td>#india #aap #delhi #corrupt compromis anti corrupt stanc due compuls outsid support polit</td>\n",
       "      <td>aap</td>\n",
       "    </tr>\n",
       "    <tr>\n",
       "      <th>4</th>\n",
       "      <td>17</td>\n",
       "      <td>1376312424</td>\n",
       "      <td>418408312556621827</td>\n",
       "      <td>51</td>\n",
       "      <td>Hurry Up Guys, take AAP membership soon, offer valid till corruption exists in India. # TrustVote4AAP http://www.aamaadmiparty.org/join-us</td>\n",
       "      <td>2014-01-01 21:18:10</td>\n",
       "      <td>hurri guy take aap membership soon offer valid till corrupt exist india #trustvot aap</td>\n",
       "      <td>aap</td>\n",
       "    </tr>\n",
       "  </tbody>\n",
       "</table>\n",
       "</div>"
      ],
      "text/plain": [
       "   favorites     user_id            tweet_id  retweet  \\\n",
       "0          1   221463601  418467053238894592        7   \n",
       "1          5   315928198  418452683154923521        6   \n",
       "2          4   901945033  418435358842310658        9   \n",
       "3          1    18237781  418430142428368896        2   \n",
       "4         17  1376312424  418408312556621827       51   \n",
       "\n",
       "                                                                                                                                                   tweet  \\\n",
       "0  @ minhazmerchant sir Arvind Kejriwal Denies Sheila Dixit Corruption https://www.youtube.com/watch?v=EVKFYiK9F0M#t18= … … … # AAPcon every india sh...   \n",
       "1           # AAP is attracting India Inc,due to its zeal to fight corruption,initiatives to simplify system & ability to bring in a global perspective.   \n",
       "2           Took 17yrs for Corey Anderson to beat Shahid Afridi's ODI ton - - Am Sure None Can Beat Congress' Corruption Record in India Even Aft 100yrs   \n",
       "3      # India # AAP # Delhi # Corruption Has @ ArvindKejriwal compromised his anti-corruption stance due to compulsions of \"outside support politics\" ?   \n",
       "4             Hurry Up Guys, take AAP membership soon, offer valid till corruption exists in India. # TrustVote4AAP http://www.aamaadmiparty.org/join-us   \n",
       "\n",
       "                 date  \\\n",
       "0 2014-01-02 01:11:34   \n",
       "1 2014-01-02 00:14:28   \n",
       "2 2014-01-01 23:05:38   \n",
       "3 2014-01-01 22:44:54   \n",
       "4 2014-01-01 21:18:10   \n",
       "\n",
       "                                                                                                   tidy_tweet  \\\n",
       "0                                 sir arvind kejriw deni sheila dixit corrupt #aapcon everi india watch video   \n",
       "1              #aap attract india inc due zeal fight corrupt initi simplifi system abil bring global perspect   \n",
       "2  took yr corey anderson beat shahid afridi odi ton sure none beat congress corrupt record india even aft yr   \n",
       "3                   #india #aap #delhi #corrupt compromis anti corrupt stanc due compuls outsid support polit   \n",
       "4                       hurri guy take aap membership soon offer valid till corrupt exist india #trustvot aap   \n",
       "\n",
       "     target  \n",
       "0       aap  \n",
       "1       aap  \n",
       "2  congress  \n",
       "3       aap  \n",
       "4       aap  "
      ]
     },
     "execution_count": 231,
     "metadata": {},
     "output_type": "execute_result"
    }
   ],
   "source": [
    "train_df.head()"
   ]
  },
  {
   "cell_type": "code",
   "execution_count": 232,
   "metadata": {},
   "outputs": [],
   "source": [
    "data= train_df.loc[:, ['tidy_tweet']]"
   ]
  },
  {
   "cell_type": "code",
   "execution_count": 233,
   "metadata": {},
   "outputs": [],
   "source": [
    "data['month'] = pd.DatetimeIndex(train_df['date']).month"
   ]
  },
  {
   "cell_type": "code",
   "execution_count": 234,
   "metadata": {},
   "outputs": [],
   "source": [
    "import calendar\n",
    "data['month'] = data['month'].apply(lambda x: calendar.month_abbr[x])"
   ]
  },
  {
   "cell_type": "code",
   "execution_count": 235,
   "metadata": {},
   "outputs": [
    {
     "data": {
      "text/html": [
       "<div>\n",
       "<style scoped>\n",
       "    .dataframe tbody tr th:only-of-type {\n",
       "        vertical-align: middle;\n",
       "    }\n",
       "\n",
       "    .dataframe tbody tr th {\n",
       "        vertical-align: top;\n",
       "    }\n",
       "\n",
       "    .dataframe thead th {\n",
       "        text-align: right;\n",
       "    }\n",
       "</style>\n",
       "<table border=\"1\" class=\"dataframe\">\n",
       "  <thead>\n",
       "    <tr style=\"text-align: right;\">\n",
       "      <th></th>\n",
       "      <th>tidy_tweet</th>\n",
       "      <th>month</th>\n",
       "    </tr>\n",
       "  </thead>\n",
       "  <tbody>\n",
       "    <tr>\n",
       "      <th>0</th>\n",
       "      <td>sir arvind kejriw deni sheila dixit corrupt #aapcon everi india watch video</td>\n",
       "      <td>Jan</td>\n",
       "    </tr>\n",
       "    <tr>\n",
       "      <th>1</th>\n",
       "      <td>#aap attract india inc due zeal fight corrupt initi simplifi system abil bring global perspect</td>\n",
       "      <td>Jan</td>\n",
       "    </tr>\n",
       "    <tr>\n",
       "      <th>2</th>\n",
       "      <td>took yr corey anderson beat shahid afridi odi ton sure none beat congress corrupt record india even aft yr</td>\n",
       "      <td>Jan</td>\n",
       "    </tr>\n",
       "    <tr>\n",
       "      <th>3</th>\n",
       "      <td>#india #aap #delhi #corrupt compromis anti corrupt stanc due compuls outsid support polit</td>\n",
       "      <td>Jan</td>\n",
       "    </tr>\n",
       "    <tr>\n",
       "      <th>4</th>\n",
       "      <td>hurri guy take aap membership soon offer valid till corrupt exist india #trustvot aap</td>\n",
       "      <td>Jan</td>\n",
       "    </tr>\n",
       "  </tbody>\n",
       "</table>\n",
       "</div>"
      ],
      "text/plain": [
       "                                                                                                   tidy_tweet  \\\n",
       "0                                 sir arvind kejriw deni sheila dixit corrupt #aapcon everi india watch video   \n",
       "1              #aap attract india inc due zeal fight corrupt initi simplifi system abil bring global perspect   \n",
       "2  took yr corey anderson beat shahid afridi odi ton sure none beat congress corrupt record india even aft yr   \n",
       "3                   #india #aap #delhi #corrupt compromis anti corrupt stanc due compuls outsid support polit   \n",
       "4                       hurri guy take aap membership soon offer valid till corrupt exist india #trustvot aap   \n",
       "\n",
       "  month  \n",
       "0   Jan  \n",
       "1   Jan  \n",
       "2   Jan  \n",
       "3   Jan  \n",
       "4   Jan  "
      ]
     },
     "execution_count": 235,
     "metadata": {},
     "output_type": "execute_result"
    }
   ],
   "source": [
    "data.head()"
   ]
  },
  {
   "cell_type": "code",
   "execution_count": 236,
   "metadata": {},
   "outputs": [],
   "source": [
    "monthly = data.groupby(by=['month'], sort=True)['tidy_tweet'].count()"
   ]
  },
  {
   "cell_type": "code",
   "execution_count": 238,
   "metadata": {},
   "outputs": [],
   "source": [
    "monthly = pd.DataFrame(({'month': monthly.index, 'count': monthly.values}))"
   ]
  },
  {
   "cell_type": "code",
   "execution_count": 240,
   "metadata": {},
   "outputs": [
    {
     "data": {
      "text/html": [
       "<div>\n",
       "<style scoped>\n",
       "    .dataframe tbody tr th:only-of-type {\n",
       "        vertical-align: middle;\n",
       "    }\n",
       "\n",
       "    .dataframe tbody tr th {\n",
       "        vertical-align: top;\n",
       "    }\n",
       "\n",
       "    .dataframe thead th {\n",
       "        text-align: right;\n",
       "    }\n",
       "</style>\n",
       "<table border=\"1\" class=\"dataframe\">\n",
       "  <thead>\n",
       "    <tr style=\"text-align: right;\">\n",
       "      <th></th>\n",
       "      <th>month</th>\n",
       "      <th>count</th>\n",
       "    </tr>\n",
       "  </thead>\n",
       "  <tbody>\n",
       "    <tr>\n",
       "      <th>0</th>\n",
       "      <td>Apr</td>\n",
       "      <td>4687</td>\n",
       "    </tr>\n",
       "    <tr>\n",
       "      <th>1</th>\n",
       "      <td>Aug</td>\n",
       "      <td>2538</td>\n",
       "    </tr>\n",
       "    <tr>\n",
       "      <th>2</th>\n",
       "      <td>Feb</td>\n",
       "      <td>3574</td>\n",
       "    </tr>\n",
       "    <tr>\n",
       "      <th>3</th>\n",
       "      <td>Jan</td>\n",
       "      <td>4071</td>\n",
       "    </tr>\n",
       "    <tr>\n",
       "      <th>4</th>\n",
       "      <td>Jul</td>\n",
       "      <td>3752</td>\n",
       "    </tr>\n",
       "    <tr>\n",
       "      <th>5</th>\n",
       "      <td>Jun</td>\n",
       "      <td>3654</td>\n",
       "    </tr>\n",
       "    <tr>\n",
       "      <th>6</th>\n",
       "      <td>Mar</td>\n",
       "      <td>3994</td>\n",
       "    </tr>\n",
       "    <tr>\n",
       "      <th>7</th>\n",
       "      <td>May</td>\n",
       "      <td>4752</td>\n",
       "    </tr>\n",
       "    <tr>\n",
       "      <th>8</th>\n",
       "      <td>Sep</td>\n",
       "      <td>12</td>\n",
       "    </tr>\n",
       "  </tbody>\n",
       "</table>\n",
       "</div>"
      ],
      "text/plain": [
       "  month  count\n",
       "0   Apr   4687\n",
       "1   Aug   2538\n",
       "2   Feb   3574\n",
       "3   Jan   4071\n",
       "4   Jul   3752\n",
       "5   Jun   3654\n",
       "6   Mar   3994\n",
       "7   May   4752\n",
       "8   Sep     12"
      ]
     },
     "execution_count": 240,
     "metadata": {},
     "output_type": "execute_result"
    }
   ],
   "source": [
    "monthly"
   ]
  },
  {
   "cell_type": "code",
   "execution_count": 242,
   "metadata": {},
   "outputs": [],
   "source": [
    "monthly = monthly.set_index(monthly.month)"
   ]
  },
  {
   "cell_type": "code",
   "execution_count": 244,
   "metadata": {},
   "outputs": [
    {
     "data": {
      "image/png": "[encoded data removed]",
      "text/plain": [
       "<Figure size 720x360 with 1 Axes>"
      ]
     },
     "metadata": {
      "needs_background": "light"
     },
     "output_type": "display_data"
    }
   ],
   "source": [
    "monthly.plot(kind='bar', figsize=(10, 5), color='blue');"
   ]
  },
  {
   "cell_type": "markdown",
   "metadata": {},
   "source": [
    " "
   ]
  },
  {
   "cell_type": "code",
   "execution_count": 245,
   "metadata": {},
   "outputs": [],
   "source": [
    "data['hour'] = pd.DatetimeIndex(train_df['date']).hour"
   ]
  },
  {
   "cell_type": "code",
   "execution_count": 246,
   "metadata": {},
   "outputs": [],
   "source": [
    "hourly = data.groupby(by=['hour'], sort=True)['tidy_tweet'].count()"
   ]
  },
  {
   "cell_type": "code",
   "execution_count": 248,
   "metadata": {},
   "outputs": [],
   "source": [
    "hourly = pd.DataFrame(({'hour': hourly.index, 'count': hourly.values}))"
   ]
  },
  {
   "cell_type": "code",
   "execution_count": 251,
   "metadata": {},
   "outputs": [],
   "source": [
    "hourly.drop(['hour'], axis=1, inplace=True)"
   ]
  },
  {
   "cell_type": "code",
   "execution_count": 252,
   "metadata": {},
   "outputs": [
    {
     "data": {
      "text/html": [
       "<div>\n",
       "<style scoped>\n",
       "    .dataframe tbody tr th:only-of-type {\n",
       "        vertical-align: middle;\n",
       "    }\n",
       "\n",
       "    .dataframe tbody tr th {\n",
       "        vertical-align: top;\n",
       "    }\n",
       "\n",
       "    .dataframe thead th {\n",
       "        text-align: right;\n",
       "    }\n",
       "</style>\n",
       "<table border=\"1\" class=\"dataframe\">\n",
       "  <thead>\n",
       "    <tr style=\"text-align: right;\">\n",
       "      <th></th>\n",
       "      <th>count</th>\n",
       "    </tr>\n",
       "  </thead>\n",
       "  <tbody>\n",
       "    <tr>\n",
       "      <th>0</th>\n",
       "      <td>933</td>\n",
       "    </tr>\n",
       "    <tr>\n",
       "      <th>1</th>\n",
       "      <td>613</td>\n",
       "    </tr>\n",
       "    <tr>\n",
       "      <th>2</th>\n",
       "      <td>454</td>\n",
       "    </tr>\n",
       "    <tr>\n",
       "      <th>3</th>\n",
       "      <td>366</td>\n",
       "    </tr>\n",
       "    <tr>\n",
       "      <th>4</th>\n",
       "      <td>440</td>\n",
       "    </tr>\n",
       "    <tr>\n",
       "      <th>5</th>\n",
       "      <td>1097</td>\n",
       "    </tr>\n",
       "    <tr>\n",
       "      <th>6</th>\n",
       "      <td>1618</td>\n",
       "    </tr>\n",
       "    <tr>\n",
       "      <th>7</th>\n",
       "      <td>1957</td>\n",
       "    </tr>\n",
       "    <tr>\n",
       "      <th>8</th>\n",
       "      <td>1802</td>\n",
       "    </tr>\n",
       "    <tr>\n",
       "      <th>9</th>\n",
       "      <td>1780</td>\n",
       "    </tr>\n",
       "    <tr>\n",
       "      <th>10</th>\n",
       "      <td>1696</td>\n",
       "    </tr>\n",
       "    <tr>\n",
       "      <th>11</th>\n",
       "      <td>1632</td>\n",
       "    </tr>\n",
       "    <tr>\n",
       "      <th>12</th>\n",
       "      <td>1636</td>\n",
       "    </tr>\n",
       "    <tr>\n",
       "      <th>13</th>\n",
       "      <td>1456</td>\n",
       "    </tr>\n",
       "    <tr>\n",
       "      <th>14</th>\n",
       "      <td>1357</td>\n",
       "    </tr>\n",
       "    <tr>\n",
       "      <th>15</th>\n",
       "      <td>1429</td>\n",
       "    </tr>\n",
       "    <tr>\n",
       "      <th>16</th>\n",
       "      <td>1404</td>\n",
       "    </tr>\n",
       "    <tr>\n",
       "      <th>17</th>\n",
       "      <td>1432</td>\n",
       "    </tr>\n",
       "    <tr>\n",
       "      <th>18</th>\n",
       "      <td>1470</td>\n",
       "    </tr>\n",
       "    <tr>\n",
       "      <th>19</th>\n",
       "      <td>1421</td>\n",
       "    </tr>\n",
       "    <tr>\n",
       "      <th>20</th>\n",
       "      <td>1336</td>\n",
       "    </tr>\n",
       "    <tr>\n",
       "      <th>21</th>\n",
       "      <td>1341</td>\n",
       "    </tr>\n",
       "    <tr>\n",
       "      <th>22</th>\n",
       "      <td>1295</td>\n",
       "    </tr>\n",
       "    <tr>\n",
       "      <th>23</th>\n",
       "      <td>1069</td>\n",
       "    </tr>\n",
       "  </tbody>\n",
       "</table>\n",
       "</div>"
      ],
      "text/plain": [
       "    count\n",
       "0     933\n",
       "1     613\n",
       "2     454\n",
       "3     366\n",
       "4     440\n",
       "5    1097\n",
       "6    1618\n",
       "7    1957\n",
       "8    1802\n",
       "9    1780\n",
       "10   1696\n",
       "11   1632\n",
       "12   1636\n",
       "13   1456\n",
       "14   1357\n",
       "15   1429\n",
       "16   1404\n",
       "17   1432\n",
       "18   1470\n",
       "19   1421\n",
       "20   1336\n",
       "21   1341\n",
       "22   1295\n",
       "23   1069"
      ]
     },
     "execution_count": 252,
     "metadata": {},
     "output_type": "execute_result"
    }
   ],
   "source": [
    "hourly"
   ]
  },
  {
   "cell_type": "code",
   "execution_count": 253,
   "metadata": {},
   "outputs": [
    {
     "data": {
      "image/png": "[encoded data removed]",
      "text/plain": [
       "<Figure size 720x360 with 1 Axes>"
      ]
     },
     "metadata": {
      "needs_background": "light"
     },
     "output_type": "display_data"
    }
   ],
   "source": [
    "hourly.plot(figsize=(10, 5), color='green');"
   ]
  },
  {
   "cell_type": "code",
   "execution_count": 254,
   "metadata": {},
   "outputs": [],
   "source": [
    "target = train_df[(train_df['target'] == 'aap') | (train_df['target'] == 'bjp') | (train_df['target'] == 'congress')]"
   ]
  },
  {
   "cell_type": "code",
   "execution_count": 255,
   "metadata": {},
   "outputs": [],
   "source": [
    "target = target.groupby(['target']).count()"
   ]
  },
  {
   "cell_type": "code",
   "execution_count": 257,
   "metadata": {},
   "outputs": [],
   "source": [
    "target.drop(['favorites', 'user_id', 'tweet_id', 'retweet', 'tweet', 'date'], axis=1, inplace=True)"
   ]
  },
  {
   "cell_type": "code",
   "execution_count": 260,
   "metadata": {},
   "outputs": [
    {
     "data": {
      "text/html": [
       "<div>\n",
       "<style scoped>\n",
       "    .dataframe tbody tr th:only-of-type {\n",
       "        vertical-align: middle;\n",
       "    }\n",
       "\n",
       "    .dataframe tbody tr th {\n",
       "        vertical-align: top;\n",
       "    }\n",
       "\n",
       "    .dataframe thead th {\n",
       "        text-align: right;\n",
       "    }\n",
       "</style>\n",
       "<table border=\"1\" class=\"dataframe\">\n",
       "  <thead>\n",
       "    <tr style=\"text-align: right;\">\n",
       "      <th></th>\n",
       "      <th>tidy_tweet</th>\n",
       "    </tr>\n",
       "    <tr>\n",
       "      <th>target</th>\n",
       "      <th></th>\n",
       "    </tr>\n",
       "  </thead>\n",
       "  <tbody>\n",
       "    <tr>\n",
       "      <th>aap</th>\n",
       "      <td>2290</td>\n",
       "    </tr>\n",
       "    <tr>\n",
       "      <th>bjp</th>\n",
       "      <td>4699</td>\n",
       "    </tr>\n",
       "    <tr>\n",
       "      <th>congress</th>\n",
       "      <td>893</td>\n",
       "    </tr>\n",
       "  </tbody>\n",
       "</table>\n",
       "</div>"
      ],
      "text/plain": [
       "          tidy_tweet\n",
       "target              \n",
       "aap             2290\n",
       "bjp             4699\n",
       "congress         893"
      ]
     },
     "execution_count": 260,
     "metadata": {},
     "output_type": "execute_result"
    }
   ],
   "source": [
    "target"
   ]
  },
  {
   "cell_type": "code",
   "execution_count": 261,
   "metadata": {},
   "outputs": [
    {
     "data": {
      "image/png": "[encoded data removed]",
      "text/plain": [
       "<Figure size 720x360 with 1 Axes>"
      ]
     },
     "metadata": {
      "needs_background": "light"
     },
     "output_type": "display_data"
    }
   ],
   "source": [
    "target.plot(kind='bar',figsize=(10, 5));"
   ]
  },
  {
   "cell_type": "code",
   "execution_count": 262,
   "metadata": {},
   "outputs": [
    {
     "data": {
      "text/plain": [
       "others      23152\n",
       "bjp          4699\n",
       "aap          2290\n",
       "congress      893\n",
       "Name: target, dtype: int64"
      ]
     },
     "execution_count": 262,
     "metadata": {},
     "output_type": "execute_result"
    }
   ],
   "source": [
    "train_df['target'].value_counts()"
   ]
  },
  {
   "cell_type": "code",
   "execution_count": 263,
   "metadata": {},
   "outputs": [],
   "source": [
    "train_df.drop(train_df[train_df.target == 'others'].index[:-6000], inplace=True)"
   ]
  },
  {
   "cell_type": "code",
   "execution_count": 264,
   "metadata": {},
   "outputs": [
    {
     "data": {
      "text/plain": [
       "favorites     6000\n",
       "user_id       6000\n",
       "tweet_id      6000\n",
       "retweet       6000\n",
       "tweet         6000\n",
       "date          6000\n",
       "tidy_tweet    6000\n",
       "target        6000\n",
       "dtype: int64"
      ]
     },
     "execution_count": 264,
     "metadata": {},
     "output_type": "execute_result"
    }
   ],
   "source": [
    "train_df[train_df['target'] == 'others'].count()"
   ]
  },
  {
   "cell_type": "code",
   "execution_count": 265,
   "metadata": {},
   "outputs": [
    {
     "data": {
      "text/plain": [
       "others      6000\n",
       "bjp         4699\n",
       "aap         2290\n",
       "congress     893\n",
       "Name: target, dtype: int64"
      ]
     },
     "execution_count": 265,
     "metadata": {},
     "output_type": "execute_result"
    }
   ],
   "source": [
    "train_df['target'].value_counts()"
   ]
  },
  {
   "cell_type": "code",
   "execution_count": 266,
   "metadata": {},
   "outputs": [],
   "source": [
    "train_df.drop(['favorites', 'user_id', 'tweet_id', 'retweet', 'tweet', 'date'], axis=1, inplace=True)"
   ]
  },
  {
   "cell_type": "code",
   "execution_count": 267,
   "metadata": {},
   "outputs": [
    {
     "data": {
      "text/plain": [
       "tidy_tweet    13882\n",
       "target        13882\n",
       "dtype: int64"
      ]
     },
     "execution_count": 267,
     "metadata": {},
     "output_type": "execute_result"
    }
   ],
   "source": [
    "train_df.count()"
   ]
  },
  {
   "cell_type": "code",
   "execution_count": 268,
   "metadata": {},
   "outputs": [
    {
     "data": {
      "text/html": [
       "<div>\n",
       "<style scoped>\n",
       "    .dataframe tbody tr th:only-of-type {\n",
       "        vertical-align: middle;\n",
       "    }\n",
       "\n",
       "    .dataframe tbody tr th {\n",
       "        vertical-align: top;\n",
       "    }\n",
       "\n",
       "    .dataframe thead th {\n",
       "        text-align: right;\n",
       "    }\n",
       "</style>\n",
       "<table border=\"1\" class=\"dataframe\">\n",
       "  <thead>\n",
       "    <tr style=\"text-align: right;\">\n",
       "      <th></th>\n",
       "      <th>tidy_tweet</th>\n",
       "      <th>target</th>\n",
       "    </tr>\n",
       "  </thead>\n",
       "  <tbody>\n",
       "    <tr>\n",
       "      <th>0</th>\n",
       "      <td>sir arvind kejriw deni sheila dixit corrupt #aapcon everi india watch video</td>\n",
       "      <td>aap</td>\n",
       "    </tr>\n",
       "    <tr>\n",
       "      <th>1</th>\n",
       "      <td>#aap attract india inc due zeal fight corrupt initi simplifi system abil bring global perspect</td>\n",
       "      <td>aap</td>\n",
       "    </tr>\n",
       "    <tr>\n",
       "      <th>2</th>\n",
       "      <td>took yr corey anderson beat shahid afridi odi ton sure none beat congress corrupt record india even aft yr</td>\n",
       "      <td>congress</td>\n",
       "    </tr>\n",
       "    <tr>\n",
       "      <th>3</th>\n",
       "      <td>#india #aap #delhi #corrupt compromis anti corrupt stanc due compuls outsid support polit</td>\n",
       "      <td>aap</td>\n",
       "    </tr>\n",
       "    <tr>\n",
       "      <th>4</th>\n",
       "      <td>hurri guy take aap membership soon offer valid till corrupt exist india #trustvot aap</td>\n",
       "      <td>aap</td>\n",
       "    </tr>\n",
       "  </tbody>\n",
       "</table>\n",
       "</div>"
      ],
      "text/plain": [
       "                                                                                                   tidy_tweet  \\\n",
       "0                                 sir arvind kejriw deni sheila dixit corrupt #aapcon everi india watch video   \n",
       "1              #aap attract india inc due zeal fight corrupt initi simplifi system abil bring global perspect   \n",
       "2  took yr corey anderson beat shahid afridi odi ton sure none beat congress corrupt record india even aft yr   \n",
       "3                   #india #aap #delhi #corrupt compromis anti corrupt stanc due compuls outsid support polit   \n",
       "4                       hurri guy take aap membership soon offer valid till corrupt exist india #trustvot aap   \n",
       "\n",
       "     target  \n",
       "0       aap  \n",
       "1       aap  \n",
       "2  congress  \n",
       "3       aap  \n",
       "4       aap  "
      ]
     },
     "execution_count": 268,
     "metadata": {},
     "output_type": "execute_result"
    }
   ],
   "source": [
    "train_df.head()"
   ]
  },
  {
   "cell_type": "code",
   "execution_count": 269,
   "metadata": {},
   "outputs": [
    {
     "data": {
      "image/png": "[encoded data removed]",
      "text/plain": [
       "<Figure size 720x504 with 1 Axes>"
      ]
     },
     "metadata": {
      "needs_background": "light"
     },
     "output_type": "display_data"
    }
   ],
   "source": [
    "from wordcloud.wordcloud import WordCloud\n",
    "\n",
    "words = ' '.join([text for text in train_df['tidy_tweet']])\n",
    "\n",
    "wordcloud = WordCloud(width=800, height=500, random_state=21, max_font_size=110).generate(words)\n",
    "\n",
    "plt.figure(figsize=(10, 7))\n",
    "plt.imshow(wordcloud, interpolation=\"bilinear\")\n",
    "plt.axis('off')\n",
    "plt.show()"
   ]
  },
  {
   "cell_type": "code",
   "execution_count": 270,
   "metadata": {},
   "outputs": [
    {
     "data": {
      "text/html": [
       "<div>\n",
       "<style scoped>\n",
       "    .dataframe tbody tr th:only-of-type {\n",
       "        vertical-align: middle;\n",
       "    }\n",
       "\n",
       "    .dataframe tbody tr th {\n",
       "        vertical-align: top;\n",
       "    }\n",
       "\n",
       "    .dataframe thead th {\n",
       "        text-align: right;\n",
       "    }\n",
       "</style>\n",
       "<table border=\"1\" class=\"dataframe\">\n",
       "  <thead>\n",
       "    <tr style=\"text-align: right;\">\n",
       "      <th></th>\n",
       "      <th>tidy_tweet</th>\n",
       "      <th>target</th>\n",
       "    </tr>\n",
       "  </thead>\n",
       "  <tbody>\n",
       "    <tr>\n",
       "      <th>0</th>\n",
       "      <td>sir arvind kejriw deni sheila dixit corrupt #aapcon everi india watch video</td>\n",
       "      <td>aap</td>\n",
       "    </tr>\n",
       "    <tr>\n",
       "      <th>1</th>\n",
       "      <td>#aap attract india inc due zeal fight corrupt initi simplifi system abil bring global perspect</td>\n",
       "      <td>aap</td>\n",
       "    </tr>\n",
       "  </tbody>\n",
       "</table>\n",
       "</div>"
      ],
      "text/plain": [
       "                                                                                       tidy_tweet  \\\n",
       "0                     sir arvind kejriw deni sheila dixit corrupt #aapcon everi india watch video   \n",
       "1  #aap attract india inc due zeal fight corrupt initi simplifi system abil bring global perspect   \n",
       "\n",
       "  target  \n",
       "0    aap  \n",
       "1    aap  "
      ]
     },
     "execution_count": 270,
     "metadata": {},
     "output_type": "execute_result"
    }
   ],
   "source": [
    "train_df.head(2)"
   ]
  },
  {
   "cell_type": "code",
   "execution_count": 271,
   "metadata": {},
   "outputs": [],
   "source": [
    "# split the dataset into training and validation datasets \n",
    "train_x, test_x, train_y, test_y = model_selection.train_test_split(train_df['tidy_tweet'], train_df['target'], test_size=0.20, random_state=100, shuffle=True) # 80% Train and 20% Test split\n"
   ]
  },
  {
   "cell_type": "code",
   "execution_count": 272,
   "metadata": {},
   "outputs": [],
   "source": [
    "# label encode the target variable \n",
    "encoder = preprocessing.LabelEncoder()\n",
    "train_y = encoder.fit_transform(train_y)\n",
    "test_y = encoder.fit_transform(test_y)"
   ]
  },
  {
   "cell_type": "markdown",
   "metadata": {},
   "source": [
    "### Feature Extraction - TFIDF"
   ]
  },
  {
   "cell_type": "code",
   "execution_count": 273,
   "metadata": {},
   "outputs": [],
   "source": [
    "# word level tf-idf\n",
    "tfidf_vect = TfidfVectorizer(analyzer='word', token_pattern=r'#?\\w{1,}', max_features=len(train_x))\n",
    "tfidf_vect.fit(train_df['tidy_tweet'])\n",
    "xtrain_tfidf =  tfidf_vect.transform(train_x)\n",
    "xtest_tfidf =  tfidf_vect.transform(test_x)"
   ]
  },
  {
   "cell_type": "markdown",
   "metadata": {},
   "source": [
    "### Model"
   ]
  },
  {
   "cell_type": "code",
   "execution_count": 274,
   "metadata": {},
   "outputs": [],
   "source": [
    "# Setup training model and make prediction\n",
    "\n",
    "def train_model(classifier, feature_vector_train, label, feature_vector_test, is_neural_net=False):\n",
    "    \n",
    "    # fit the training dataset on the classifier\n",
    "    \n",
    "    classifier.fit(feature_vector_train, label)\n",
    "    joblib.dump(classifier,'ml_clf_model.pkl')\n",
    "    \n",
    "    # predict the labels on validation dataset\n",
    "    predictions = classifier.predict(feature_vector_test)\n",
    "    \n",
    "    if is_neural_net:\n",
    "        predictions = predictions.argmax(axis=-1)\n",
    "    \n",
    "    return metrics.accuracy_score(predictions, test_y)"
   ]
  },
  {
   "cell_type": "markdown",
   "metadata": {},
   "source": [
    "### Naive Bayes"
   ]
  },
  {
   "cell_type": "code",
   "execution_count": 281,
   "metadata": {},
   "outputs": [
    {
     "name": "stdout",
     "output_type": "stream",
     "text": [
      "Naive Bayes, WordLevel TF-IDF:  0.8167086784299604\n"
     ]
    }
   ],
   "source": [
    "accuracy = train_model(naive_bayes.MultinomialNB(), xtrain_tfidf, train_y, xtest_tfidf)\n",
    "print(\"Naive Bayes, WordLevel TF-IDF: \", accuracy)"
   ]
  },
  {
   "cell_type": "markdown",
   "metadata": {},
   "source": [
    "### XGboost"
   ]
  },
  {
   "cell_type": "code",
   "execution_count": null,
   "metadata": {},
   "outputs": [],
   "source": [
    "accuracy = train_model(xgboost.XGBClassifier(), xtrain_tfidf.tocsc(), train_y, xtest_tfidf.tocsc())\n",
    "print(\"Xgboost, WordLevel TF-IDF: \", accuracy)"
   ]
  },
  {
   "cell_type": "markdown",
   "metadata": {},
   "source": [
    "### Random Forest"
   ]
  },
  {
   "cell_type": "code",
   "execution_count": 282,
   "metadata": {},
   "outputs": [
    {
     "name": "stderr",
     "output_type": "stream",
     "text": [
      "C:\\ProgramData\\Anaconda3\\envs\\tensorflow_env\\lib\\site-packages\\sklearn\\ensemble\\forest.py:246: FutureWarning: The default value of n_estimators will change from 10 in version 0.20 to 100 in 0.22.\n",
      "  \"10 in version 0.20 to 100 in 0.22.\", FutureWarning)\n"
     ]
    },
    {
     "name": "stdout",
     "output_type": "stream",
     "text": [
      "Random Forest, WordLevel TF-IDF:  0.9312207418077062\n"
     ]
    }
   ],
   "source": [
    "accuracy = train_model(ensemble.RandomForestClassifier(), xtrain_tfidf, train_y, xtest_tfidf)\n",
    "print(\"Random Forest, WordLevel TF-IDF: \", accuracy)"
   ]
  },
  {
   "cell_type": "markdown",
   "metadata": {},
   "source": [
    "### Word Embedding"
   ]
  },
  {
   "cell_type": "code",
   "execution_count": null,
   "metadata": {},
   "outputs": [],
   "source": [
    "from keras.preprocessing import text, sequence\n",
    "from keras import layers, models, optimizers\n",
    "import io\n",
    "# load the pre-trained word-embedding vectors \n",
    "\n",
    "embeddings_index = {}\n",
    "for i, line in enumerate(io.open('wiki-news-300d-1M.vec', 'r', encoding='utf-8', newline='\\n', errors='ignore')):\n",
    "    values = line.split()\n",
    "    embeddings_index[values[0]] = np.asarray(values[1:], dtype='float32')\n",
    "tokenizer.tokenize(text)\n",
    "# create a tokenizer \n",
    "token = text.Tokenizer()\n",
    "token.fit_on_texts(train_df['tidy_tweet'])\n",
    "word_index = token.word_index\n",
    "\n",
    "# convert text to sequence of tokens and pad them to ensure equal length vectors \n",
    "train_seq_x = sequence.pad_sequences(token.texts_to_sequences(train_x), maxlen=70)\n",
    "test_seq_x = sequence.pad_sequences(token.texts_to_sequences(test_x), maxlen=70)\n",
    "\n",
    "# create token-embedding mapping\n",
    "embedding_matrix = np.zeros((len(word_index) + 1, 300))\n",
    "for word, i in word_index.items():\n",
    "    embedding_vector = embeddings_index.get(word)\n",
    "    if embedding_vector is not None:\n",
    "        embedding_matrix[i] = embedding_vector"
   ]
  },
  {
   "cell_type": "markdown",
   "metadata": {},
   "source": [
    "### Neural Network LSTM"
   ]
  },
  {
   "cell_type": "code",
   "execution_count": null,
   "metadata": {},
   "outputs": [],
   "source": [
    "def create_rnn_lstm(): \n",
    "    # Add an Input Layer\n",
    "    input_layer = layers.Input((70, ))\n",
    "\n",
    "    # Add the word embedding Layer\n",
    "    embedding_layer = layers.Embedding(len(word_index) + 1, 300, weights=[embedding_matrix], trainable=False)(input_layer)\n",
    "    embedding_layer = layers.SpatialDropout1D(0.3)(embedding_layer)\n",
    "\n",
    "    # Add the LSTM Layer\n",
    "    lstm_layer = layers.LSTM(100)(embedding_layer)\n",
    "\n",
    "    # Add the output Layers\n",
    "    output_layer1 = layers.Dense(50, activation=\"relu\")(lstm_layer)\n",
    "    output_layer1 = layers.Dropout(0.25)(output_layer1)\n",
    "    output_layer2 = layers.Dense(1, activation=\"sigmoid\")(output_layer1)\n",
    "\n",
    "    # Compile the model\n",
    "    model = models.Model(inputs=input_layer, outputs=output_layer2)\n",
    "    model.compile(optimizer=optimizers.Adam(), loss='binary_crossentropy', metrics=['acc'])\n",
    "    \n",
    "    return model\n",
    "\n",
    "classifier = create_rnn_lstm()\n",
    "accuracy = train_model(classifier, train_seq_x, train_y, test_seq_x, is_neural_net=True)\n",
    "print(\"RNN-LSTM, Word Embeddings\",  accuracy)"
   ]
  },
  {
   "cell_type": "markdown",
   "metadata": {},
   "source": [
    "### Validation"
   ]
  },
  {
   "cell_type": "code",
   "execution_count": 38,
   "metadata": {},
   "outputs": [
    {
     "name": "stdout",
     "output_type": "stream",
     "text": [
      "Enter Tweet: What are you doing?\n",
      "                 Tweet   Party\n",
      "0  What are you doing?  Others\n"
     ]
    }
   ],
   "source": [
    "# Validating our model\n",
    "\n",
    "def clean_tweet(tweet):\n",
    "    tweet = remove_handler(tweet)\n",
    "    tweet = remove_accented_chars(tweet)\n",
    "    tweet = expand_contractions(tweet)\n",
    "    tweet = remove_url(tweet)\n",
    "    tweet = re.sub(\"[^a-zA-Z#]\", \" \", tweet)\n",
    "    tweet = remove_hash_space(tweet)\n",
    "    tweet = remove_stopwords(tweet)\n",
    "    tweet = stemmer(tweet)\n",
    "    return tweet\n",
    "\n",
    "\n",
    "def get_pred(norm_tweet):\n",
    "    clf = joblib.load('clf_model.pkl')\n",
    "    label = clf.predict(tfidf_vect.transform([norm_tweet]))\n",
    "    if label == 0:\n",
    "        pred = 'AAP'\n",
    "    elif label == 1:\n",
    "        pred = 'BJP'\n",
    "    elif label == 2:\n",
    "        pred = 'Congress'\n",
    "    else:\n",
    "        pred = 'Others'\n",
    "    return pred\n",
    "\n",
    "tweet = input(\"Enter Tweet: \")\n",
    "\n",
    "norm_tweet = clean_tweet(tweet)\n",
    "result = get_pred(norm_tweet)\n",
    "df = pd.DataFrame([tweet, result]).T\n",
    "df.columns = ['Tweet', 'Party']\n",
    "print(df)"
   ]
  },
  {
   "cell_type": "markdown",
   "metadata": {},
   "source": [
    " "
   ]
  },
  {
   "cell_type": "markdown",
   "metadata": {},
   "source": [
    "### Sentiment Analysis"
   ]
  },
  {
   "cell_type": "code",
   "execution_count": 44,
   "metadata": {},
   "outputs": [
    {
     "data": {
      "text/html": [
       "<div>\n",
       "<style scoped>\n",
       "    .dataframe tbody tr th:only-of-type {\n",
       "        vertical-align: middle;\n",
       "    }\n",
       "\n",
       "    .dataframe tbody tr th {\n",
       "        vertical-align: top;\n",
       "    }\n",
       "\n",
       "    .dataframe thead tr th {\n",
       "        text-align: left;\n",
       "    }\n",
       "\n",
       "    .dataframe thead tr:last-of-type th {\n",
       "        text-align: right;\n",
       "    }\n",
       "</style>\n",
       "<table border=\"1\" class=\"dataframe\">\n",
       "  <thead>\n",
       "    <tr>\n",
       "      <th></th>\n",
       "      <th colspan=\"8\" halign=\"left\">sentiment_score</th>\n",
       "    </tr>\n",
       "    <tr>\n",
       "      <th></th>\n",
       "      <th>count</th>\n",
       "      <th>mean</th>\n",
       "      <th>std</th>\n",
       "      <th>min</th>\n",
       "      <th>25%</th>\n",
       "      <th>50%</th>\n",
       "      <th>75%</th>\n",
       "      <th>max</th>\n",
       "    </tr>\n",
       "    <tr>\n",
       "      <th>target</th>\n",
       "      <th></th>\n",
       "      <th></th>\n",
       "      <th></th>\n",
       "      <th></th>\n",
       "      <th></th>\n",
       "      <th></th>\n",
       "      <th></th>\n",
       "      <th></th>\n",
       "    </tr>\n",
       "  </thead>\n",
       "  <tbody>\n",
       "    <tr>\n",
       "      <th>aap</th>\n",
       "      <td>2290.0</td>\n",
       "      <td>-0.148248</td>\n",
       "      <td>0.266730</td>\n",
       "      <td>-1.0</td>\n",
       "      <td>-0.50</td>\n",
       "      <td>-0.05</td>\n",
       "      <td>0.000</td>\n",
       "      <td>1.0</td>\n",
       "    </tr>\n",
       "    <tr>\n",
       "      <th>bjp</th>\n",
       "      <td>4699.0</td>\n",
       "      <td>0.008588</td>\n",
       "      <td>0.300820</td>\n",
       "      <td>-1.0</td>\n",
       "      <td>-0.05</td>\n",
       "      <td>0.00</td>\n",
       "      <td>0.100</td>\n",
       "      <td>1.0</td>\n",
       "    </tr>\n",
       "    <tr>\n",
       "      <th>congress</th>\n",
       "      <td>893.0</td>\n",
       "      <td>-0.131571</td>\n",
       "      <td>0.271871</td>\n",
       "      <td>-0.8</td>\n",
       "      <td>-0.40</td>\n",
       "      <td>0.00</td>\n",
       "      <td>0.000</td>\n",
       "      <td>1.0</td>\n",
       "    </tr>\n",
       "    <tr>\n",
       "      <th>others</th>\n",
       "      <td>6000.0</td>\n",
       "      <td>0.040977</td>\n",
       "      <td>0.248900</td>\n",
       "      <td>-1.0</td>\n",
       "      <td>0.00</td>\n",
       "      <td>0.00</td>\n",
       "      <td>0.083</td>\n",
       "      <td>1.0</td>\n",
       "    </tr>\n",
       "  </tbody>\n",
       "</table>\n",
       "</div>"
      ],
      "text/plain": [
       "         sentiment_score                                                 \n",
       "                   count      mean       std  min   25%   50%    75%  max\n",
       "target                                                                   \n",
       "aap               2290.0 -0.148248  0.266730 -1.0 -0.50 -0.05  0.000  1.0\n",
       "bjp               4699.0  0.008588  0.300820 -1.0 -0.05  0.00  0.100  1.0\n",
       "congress           893.0 -0.131571  0.271871 -0.8 -0.40  0.00  0.000  1.0\n",
       "others            6000.0  0.040977  0.248900 -1.0  0.00  0.00  0.083  1.0"
      ]
     },
     "execution_count": 44,
     "metadata": {},
     "output_type": "execute_result"
    }
   ],
   "source": [
    "from textblob import TextBlob\n",
    "sentiment_scores_tb = [round(TextBlob(text).sentiment.polarity, 3) for text in train_df['tidy_tweet']]\n",
    "sentiment_category_tb = ['positive' if score > 0 \n",
    "                             else 'negative' if score < 0 \n",
    "                                 else 'neutral' \n",
    "                                     for score in sentiment_scores_tb]\n",
    "\n",
    "# sentiment statistics per tweet target\n",
    "df = pd.DataFrame([list(train_df['tidy_tweet']), list(train_df['target']), sentiment_scores_tb, sentiment_category_tb]).T\n",
    "df.columns = ['tidy_tweet', 'target', 'sentiment_score', 'sentiment_category']\n",
    "df['sentiment_score'] = df.sentiment_score.astype('float')\n",
    "df.groupby(by=['target']).describe()\n"
   ]
  },
  {
   "cell_type": "code",
   "execution_count": 46,
   "metadata": {},
   "outputs": [
    {
     "data": {
      "image/png": "[encoded data removed]",
      "text/plain": [
       "<Figure size 467.5x360 with 1 Axes>"
      ]
     },
     "metadata": {
      "needs_background": "light"
     },
     "output_type": "display_data"
    }
   ],
   "source": [
    "import seaborn as sns\n",
    "fc = sns.catplot(x=\"target\", hue=\"sentiment_category\", \n",
    "                    data=df, kind=\"count\", \n",
    "                    palette={\"negative\": \"#FE2020\", \n",
    "                             \"positive\": \"#BADD07\", \n",
    "                             \"neutral\": \"#68BFF5\"})"
   ]
  },
  {
   "cell_type": "markdown",
   "metadata": {},
   "source": [
    " "
   ]
  },
  {
   "cell_type": "markdown",
   "metadata": {},
   "source": [
    "  "
   ]
  },
  {
   "cell_type": "markdown",
   "metadata": {},
   "source": [
    " "
   ]
  },
  {
   "cell_type": "markdown",
   "metadata": {},
   "source": [
    " "
   ]
  },
  {
   "cell_type": "markdown",
   "metadata": {},
   "source": [
    " "
   ]
  },
  {
   "cell_type": "markdown",
   "metadata": {},
   "source": [
    " "
   ]
  },
  {
   "cell_type": "markdown",
   "metadata": {},
   "source": [
    " "
   ]
  },
  {
   "cell_type": "markdown",
   "metadata": {},
   "source": [
    "### Extras"
   ]
  },
  {
   "cell_type": "markdown",
   "metadata": {},
   "source": [
    " "
   ]
  },
  {
   "cell_type": "code",
   "execution_count": null,
   "metadata": {},
   "outputs": [],
   "source": [
    "r = re.compile('voiceofyouth')\n",
    "for i in range(0, df['tidy_tweet'].count()):\n",
    "    if df.at[i, 'target'] == 'others':\n",
    "    str = df['tidy_tweet'].iloc[i]\n",
    "    ht = re.findall(r, str)\n",
    "    if not ht:\n",
    "        pass\n",
    "    else:    \n",
    "        print(str)\n",
    "        \n",
    "    \n",
    " #   if not match:\n",
    " #       pass\n",
    " #   else:\n",
    " #       print(i,match)"
   ]
  },
  {
   "cell_type": "code",
   "execution_count": 242,
   "metadata": {},
   "outputs": [],
   "source": [
    "clf = joblib.load('clf_model')"
   ]
  },
  {
   "cell_type": "code",
   "execution_count": 246,
   "metadata": {},
   "outputs": [
    {
     "data": {
      "text/plain": [
       "14"
      ]
     },
     "execution_count": 246,
     "metadata": {},
     "output_type": "execute_result"
    }
   ],
   "source": [
    "txt = \"india corrupt #iac henc forward call #kfc kejriw corrupt #kfc good yummi yummi #aapcon #delhi\"\n",
    "len(re.findall(\"[^a-zA-Z#]\", txt))"
   ]
  },
  {
   "cell_type": "code",
   "execution_count": 143,
   "metadata": {},
   "outputs": [
    {
     "data": {
      "text/plain": [
       "<1966x5000 sparse matrix of type '<class 'numpy.float64'>'\n",
       "\twith 21525 stored elements in Compressed Sparse Row format>"
      ]
     },
     "execution_count": 143,
     "metadata": {},
     "output_type": "execute_result"
    }
   ],
   "source": []
  },
  {
   "cell_type": "code",
   "execution_count": null,
   "metadata": {},
   "outputs": [],
   "source": [
    "# function to collect hashtags\n",
    "def hashtag_extract(x):\n",
    "    hashtags = []\n",
    "    # Loop over the words in the tweet\n",
    "    for i in x:\n",
    "        ht = re.findall(r\"#(\\w+)\", i)\n",
    "        hashtags.append(ht)\n",
    "\n",
    "    return hashtags\n",
    "\n",
    "ht = hashtag_extract(df['tidy_tweet'])\n",
    "ht = sum(ht,[])\n",
    "ht_unq = set(ht)\n",
    "ht_unq = list(ht_unq)\n",
    "ht_unq.sort()\n",
    "\n",
    "for i in ht_unq:\n",
    "    r = '\\w+modi\\w+|\\w+modi|modi\\w+|modi|\\w+namo\\w+|\\w+namo|namo\\w+|namo|ach\\w+|acch\\w+|amitshah|\\w+bjp\\w+|\\w+bjp|bjp\\w+|bjp|bjd|askjaitley|\\w+chaiwala\\w+|\\w+chaiwala|chaiwala\\w+|chaiwala'\n",
    "    x = re.search(r, i)\n",
    "    if x == None:\n",
    "        pass\n",
    "    else:\n",
    "        bjp.append(x.group(0))\n",
    "        ht_unq.remove(i)"
   ]
  }
 ],
 "metadata": {
  "kernelspec": {
   "display_name": "tfdeeplearning",
   "language": "python",
   "name": "tensorflow_env"
  },
  "language_info": {
   "codemirror_mode": {
    "name": "ipython",
    "version": 3
   },
   "file_extension": ".py",
   "mimetype": "text/x-python",
   "name": "python",
   "nbconvert_exporter": "python",
   "pygments_lexer": "ipython3",
   "version": "3.6.8"
  }
 },
 "nbformat": 4,
 "nbformat_minor": 2
}
